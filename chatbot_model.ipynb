{
 "cells": [
  {
   "cell_type": "code",
   "execution_count": 1,
   "id": "a3e54b28",
   "metadata": {},
   "outputs": [
    {
     "name": "stdout",
     "output_type": "stream",
     "text": [
      "✅ Model training complete and saved.\n"
     ]
    }
   ],
   "source": [
    "# chatbot_model.ipynb\n",
    "\n",
    "import json\n",
    "import pandas as pd\n",
    "from sklearn.feature_extraction.text import TfidfVectorizer\n",
    "from sklearn.linear_model import LogisticRegression\n",
    "from sklearn.pipeline import Pipeline\n",
    "from sklearn.preprocessing import LabelEncoder\n",
    "import joblib\n",
    "import os\n",
    "\n",
    "# Load dataset\n",
    "with open('intents.json', 'r', encoding='utf-8') as f:\n",
    "    data = json.load(f)\n",
    "\n",
    "sentences = []\n",
    "labels = []\n",
    "\n",
    "for item in data:\n",
    "    \n",
    "    for example in item['examples']:\n",
    "        sentences.append(example.lower())\n",
    "        labels.append(item['intent'])\n",
    "      \n",
    "# Encode labels\n",
    "le = LabelEncoder()\n",
    "y = le.fit_transform(labels)\n",
    "\n",
    "# pipeline = Pipeline([\n",
    "#     ('tfidf', TfidfVectorizer()),\n",
    "#     ('clf', LogisticRegression(max_iter=1000))\n",
    "# ])\n",
    "# Create enhanced pipeline\n",
    "pipeline = Pipeline([\n",
    "    ('tfidf', TfidfVectorizer(\n",
    "        lowercase=True,\n",
    "        stop_words='english',\n",
    "        ngram_range=(1, 2),\n",
    "        token_pattern=r\"(?u)\\b\\w+\\b\"  # removes punctuations\n",
    "    )),\n",
    "    ('clf', LogisticRegression(max_iter=1000))\n",
    "])\n",
    "\n",
    "# Train model\n",
    "pipeline.fit(sentences, y)\n",
    "\n",
    "# Create model directory if it doesn't exist\n",
    "os.makedirs(\"model\", exist_ok=True)\n",
    "\n",
    "# Save model and label encoder\n",
    "joblib.dump(pipeline, 'model/intent_model.pkl')\n",
    "joblib.dump(le, 'model/label_encoder.pkl')\n",
    "\n",
    "print(\"✅ Model training complete and saved.\")\n"
   ]
  },
  {
   "cell_type": "code",
   "execution_count": null,
   "id": "761d43ec",
   "metadata": {},
   "outputs": [],
   "source": []
  }
 ],
 "metadata": {
  "kernelspec": {
   "display_name": "base",
   "language": "python",
   "name": "python3"
  },
  "language_info": {
   "codemirror_mode": {
    "name": "ipython",
    "version": 3
   },
   "file_extension": ".py",
   "mimetype": "text/x-python",
   "name": "python",
   "nbconvert_exporter": "python",
   "pygments_lexer": "ipython3",
   "version": "3.13.5"
  }
 },
 "nbformat": 4,
 "nbformat_minor": 5
}
